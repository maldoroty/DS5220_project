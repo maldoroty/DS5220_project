{
  "nbformat": 4,
  "nbformat_minor": 0,
  "metadata": {
    "colab": {
      "provenance": [],
      "include_colab_link": true
    },
    "kernelspec": {
      "name": "python3",
      "display_name": "Python 3"
    },
    "language_info": {
      "name": "python"
    }
  },
  "cells": [
    {
      "cell_type": "markdown",
      "metadata": {
        "id": "view-in-github",
        "colab_type": "text"
      },
      "source": [
        "<a href=\"https://colab.research.google.com/github/maldoroty/DS5220_project/blob/main/PageRank.ipynb\" target=\"_parent\"><img src=\"https://colab.research.google.com/assets/colab-badge.svg\" alt=\"Open In Colab\"/></a>"
      ]
    },
    {
      "cell_type": "markdown",
      "metadata": {
        "id": "Q2QKFIlR6HCY"
      },
      "source": [
        "# PageRank\n",
        "\n",
        "In this assignment, you will compute PageRank on a collection of 469,235 web sites using the iterative version of the PageRank algorithm described in class for sparse graphs.  As we discussed in class, this avoids performing cubic-time operations on a very large matrix.\n",
        "\n",
        "Furthermore, you should take advantage of the _sparsity_ of the original hyperlinks, even though \"teleportation\" or random jumps connect every note to every other node.  As long as the maximum degree of the original link graph is much less than the number of nodes, you should be able to keep each iteration's runtime less than quadratic in the number of nodes.\n",
        "\n",
        "Consider the following directed graph:\n",
        "\n",
        "![A directed link graph](https://ccs.neu.edu/home/dasmith/courses/cs6200/pagerank.jpg)\n",
        "\n",
        "We can represent this graph as a collection of nodes, here, ordered pairs of node index and node name:"
      ]
    },
    {
      "cell_type": "code",
      "metadata": {
        "id": "4D_Mxj5pXKPl"
      },
      "source": [
        "small_nodes = [(0, 'A'),\n",
        "              (1, 'B'),\n",
        "              (2, 'C'),\n",
        "              (3, 'D'),\n",
        "              (4, 'E'),\n",
        "              (5, 'F')]"
      ],
      "execution_count": 1,
      "outputs": []
    },
    {
      "cell_type": "markdown",
      "metadata": {
        "id": "RTF3JKtTYxiZ"
      },
      "source": [
        "and a collection of directed links, i.e., ordered pairs from source to target:"
      ]
    },
    {
      "cell_type": "code",
      "metadata": {
        "id": "-i0V5ueOYDDN"
      },
      "source": [
        "small_edges = [\n",
        "  (0, 1),\n",
        "  (0, 2),\n",
        "  (0, 5),\n",
        "  (1, 2),\n",
        "  (1, 3),\n",
        "  (1, 4),\n",
        "  (1, 5),\n",
        "  (2, 3),\n",
        "  (2, 4),\n",
        "  (3, 0),\n",
        "  (3, 2),\n",
        "  (3, 4),\n",
        "  (3, 5),\n",
        "  (4, 0),\n",
        "  (5, 0),\n",
        "  (5, 1),\n",
        "  (5, 4)\n",
        "]"
      ],
      "execution_count": 2,
      "outputs": []
    },
    {
      "cell_type": "markdown",
      "metadata": {
        "id": "kBVDeszXY4B_"
      },
      "source": [
        "We use integer identifiers for the nodes for efficiency. In most real-world collections of hyperlinks, unlike this example, not every page will have in-links, nor will every page have out-links."
      ]
    },
    {
      "cell_type": "markdown",
      "metadata": {
        "id": "QPNsTGSsEwMX"
      },
      "source": [
        "## First Implementation and Test\n",
        "\n",
        "\\[10 points\\] Implement the iterative PageRank algorithm we discussed in class. Test your code on the six-node example using the input representation given above.  Be sure that your code handles pages that have no in-links or out-links properly.  (You may wish to test on a few such examples.) In later parts of this assignment, depending on how you store the data, it may be convenient to use iterators rather than storing the data in memory."
      ]
    },
    {
      "cell_type": "code",
      "source": [
        "import numpy as np"
      ],
      "metadata": {
        "id": "uffzVuFlddFU"
      },
      "execution_count": 3,
      "outputs": []
    },
    {
      "cell_type": "code",
      "metadata": {
        "id": "NMu_WaDA55sk",
        "colab": {
          "base_uri": "https://localhost:8080/"
        },
        "outputId": "dc0cbf6b-095b-45b0-b90a-de4d8e8d00c1"
      },
      "source": [
        "# TODO: Implement PageRank, given nodes and edges, to start with a uniform\n",
        "# distribution over nodes, run a fixed number of iterations, and\n",
        "# return a distribution over nodes.\n",
        "def page_rank_fixed_iter(nodes, edges, iterations=10):\n",
        "  N = len(nodes)\n",
        "  d = 0.9\n",
        "  adj = np.zeros((N, N))\n",
        "  r = np.ones(N) / N\n",
        "  for edge in edges:\n",
        "    i = edge[0]\n",
        "    j = edge[1]\n",
        "    adj[j][i] = 1\n",
        "  adj *= d\n",
        "  adj += (1 - d) / N\n",
        "  adj /= adj.sum(axis=0)\n",
        "  for _ in range(iterations):\n",
        "    np.matmul(adj, r, out=r)\n",
        "  return [(nodes[i][0], nodes[i][1], r[i]) for i in range(len(r))]\n",
        "\n",
        "# Output PageRank on the toy graph at various points.\n",
        "# Make sure your output has node number, name, and PageRank value.\n",
        "print(page_rank_fixed_iter(small_nodes, small_edges, 1))\n",
        "print(page_rank_fixed_iter(small_nodes, small_edges, 10))\n",
        "print(page_rank_fixed_iter(small_nodes, small_edges, 100))"
      ],
      "execution_count": 4,
      "outputs": [
        {
          "output_type": "stream",
          "name": "stdout",
          "text": [
            "[(0, 'A', 0.25183736367946896), (1, 'B', 0.11486825171035699), (2, 'C', 0.14237790422000948), (3, 'D', 0.127213303529093), (4, 'E', 0.2213252726410621), (5, 'F', 0.14237790422000948)]\n",
            "[(0, 'A', 0.2548918935679543), (1, 'B', 0.13872627256156275), (2, 'C', 0.1513772469247119), (3, 'D', 0.11366689408949376), (4, 'E', 0.18996044593156633), (5, 'F', 0.1513772469247119)]\n",
            "[(0, 'A', 0.2551414922419215), (1, 'B', 0.13872577432226343), (2, 'C', 0.15141287025181044), (3, 'D', 0.11351357955417946), (4, 'E', 0.18979341337802708), (5, 'F', 0.15141287025181044)]\n"
          ]
        }
      ]
    },
    {
      "cell_type": "code",
      "source": [
        "nodes = [(0, 'A'), (1, 'B'), (2, 'C')]\n",
        "edges = [(0, 1), (1, 2)]\n",
        "\n",
        "print(page_rank_fixed_iter(nodes, edges, 1))\n",
        "print(page_rank_fixed_iter(nodes, edges, 10))\n",
        "print(page_rank_fixed_iter(nodes, edges, 100))"
      ],
      "metadata": {
        "colab": {
          "base_uri": "https://localhost:8080/"
        },
        "id": "3jvgc5j-z1nL",
        "outputId": "43045402-6861-41b3-f0f8-4484e9c3fbb9"
      },
      "execution_count": 5,
      "outputs": [
        {
          "output_type": "stream",
          "name": "stdout",
          "text": [
            "[(0, 'A', 0.1333333333333333), (1, 'B', 0.4333333333333333), (2, 'C', 0.43333333333333335)]\n",
            "[(0, 'A', 0.17803312243333327), (1, 'B', 0.33872882923333325), (2, 'C', 0.4832380483333332)]\n",
            "[(0, 'A', 0.17825311942958982), (1, 'B', 0.33868092691622065), (2, 'C', 0.4830659536541884)]\n"
          ]
        }
      ]
    },
    {
      "cell_type": "markdown",
      "metadata": {
        "id": "y4duRjzABB9n"
      },
      "source": [
        "## PageRank on Web Crawl Data\n",
        "\n",
        "\\[20 points\\] Download and unpack a list of `.edu` websites and the links among them from the [Common Crawl](https://commoncrawl.org/2017/05/hostgraph-2017-feb-mar-apr-crawls/) open-source web crawl. For the sake of brevity, the data record links among websites, not web pages. The information for nodes and links is the same as the toy example above."
      ]
    },
    {
      "cell_type": "code",
      "metadata": {
        "id": "v6EDDdTQCd3y",
        "colab": {
          "base_uri": "https://localhost:8080/"
        },
        "outputId": "930c62ad-61e1-4e75-eaff-618e23b04d6d"
      },
      "source": [
        "# If you're running on a machine (e.g., Windows) that doesn't have wget or gzip,\n",
        "# feel free to comment this out and use a different set of commands to load\n",
        "# the data.\n",
        "!wget https://khoury.northeastern.edu/home/dasmith/courses/cs6200/vertices-edu.txt.gz\n",
        "!gzip -df vertices-edu.txt.gz\n",
        "!wget https://khoury.northeastern.edu/home/dasmith/courses/cs6200/edges-edu.txt.gz\n",
        "!gzip -df edges-edu.txt.gz"
      ],
      "execution_count": 6,
      "outputs": [
        {
          "output_type": "stream",
          "name": "stdout",
          "text": [
            "--2023-10-04 20:26:46--  https://khoury.northeastern.edu/home/dasmith/courses/cs6200/vertices-edu.txt.gz\n",
            "Resolving khoury.northeastern.edu (khoury.northeastern.edu)... 52.70.229.197\n",
            "Connecting to khoury.northeastern.edu (khoury.northeastern.edu)|52.70.229.197|:443... connected.\n",
            "HTTP request sent, awaiting response... 301 Moved Permanently\n",
            "Location: https://www.khoury.northeastern.edu/home/dasmith/courses/cs6200/vertices-edu.txt.gz [following]\n",
            "--2023-10-04 20:26:46--  https://www.khoury.northeastern.edu/home/dasmith/courses/cs6200/vertices-edu.txt.gz\n",
            "Resolving www.khoury.northeastern.edu (www.khoury.northeastern.edu)... 52.70.229.197\n",
            "Connecting to www.khoury.northeastern.edu (www.khoury.northeastern.edu)|52.70.229.197|:443... connected.\n",
            "HTTP request sent, awaiting response... 200 OK\n",
            "Length: 3703486 (3.5M) [application/x-gzip]\n",
            "Saving to: ‘vertices-edu.txt.gz’\n",
            "\n",
            "vertices-edu.txt.gz 100%[===================>]   3.53M  22.2MB/s    in 0.2s    \n",
            "\n",
            "2023-10-04 20:26:46 (22.2 MB/s) - ‘vertices-edu.txt.gz’ saved [3703486/3703486]\n",
            "\n",
            "--2023-10-04 20:26:47--  https://khoury.northeastern.edu/home/dasmith/courses/cs6200/edges-edu.txt.gz\n",
            "Resolving khoury.northeastern.edu (khoury.northeastern.edu)... 52.70.229.197\n",
            "Connecting to khoury.northeastern.edu (khoury.northeastern.edu)|52.70.229.197|:443... connected.\n",
            "HTTP request sent, awaiting response... 301 Moved Permanently\n",
            "Location: https://www.khoury.northeastern.edu/home/dasmith/courses/cs6200/edges-edu.txt.gz [following]\n",
            "--2023-10-04 20:26:47--  https://www.khoury.northeastern.edu/home/dasmith/courses/cs6200/edges-edu.txt.gz\n",
            "Resolving www.khoury.northeastern.edu (www.khoury.northeastern.edu)... 52.70.229.197\n",
            "Connecting to www.khoury.northeastern.edu (www.khoury.northeastern.edu)|52.70.229.197|:443... connected.\n",
            "HTTP request sent, awaiting response... 200 OK\n",
            "Length: 12829526 (12M) [application/x-gzip]\n",
            "Saving to: ‘edges-edu.txt.gz’\n",
            "\n",
            "edges-edu.txt.gz    100%[===================>]  12.23M  56.8MB/s    in 0.2s    \n",
            "\n",
            "2023-10-04 20:26:48 (56.8 MB/s) - ‘edges-edu.txt.gz’ saved [12829526/12829526]\n",
            "\n"
          ]
        }
      ]
    },
    {
      "cell_type": "markdown",
      "metadata": {
        "id": "CW4yp1gPUwzb"
      },
      "source": [
        "There should now be files `vertices-edu.txt` and `edges-edu.txt`."
      ]
    },
    {
      "cell_type": "code",
      "metadata": {
        "id": "ly1t9fyjK7eC",
        "colab": {
          "base_uri": "https://localhost:8080/"
        },
        "outputId": "4f06235b-5f98-4e43-da75-d11afd8f6751"
      },
      "source": [
        "# TODO: Process the raw data into the same format as the simple graph.\n",
        "# You may create lists or iterators.\n",
        "# Open the file in read mode\n",
        "edges = []\n",
        "vertices = []\n",
        "with open('edges-edu.txt', 'r') as edges_file:\n",
        "    for line in edges_file:\n",
        "      line = line.split()\n",
        "      edges.append((int(line[0]), int(line[1])))\n",
        "\n",
        "with open('vertices-edu.txt', 'r') as vertices_file:\n",
        "    for line in vertices_file:\n",
        "      line = line.split()\n",
        "      vertices.append((int(line[0]), line[1]))\n",
        "\n",
        "print(edges[:10])\n",
        "print(vertices[:10])"
      ],
      "execution_count": 7,
      "outputs": [
        {
          "output_type": "stream",
          "name": "stdout",
          "text": [
            "[(386, 440), (19202, 1033), (103884, 2635), (342306, 7399), (8366, 8312), (8358, 8312), (8949, 8987), (8982, 8987), (8910, 8987), (9028, 8999)]\n",
            "[(0, 'edu.00zl5e'), (1, 'edu.06hxbt'), (2, 'edu.082ifc'), (3, 'edu.083mjs'), (4, 'edu.09xzrr'), (5, 'edu.0aoqqj'), (6, 'edu.0ax4el'), (7, 'edu.0c5fez'), (8, 'edu.0cosn2'), (9, 'edu.0dcdp8')]\n"
          ]
        }
      ]
    },
    {
      "cell_type": "markdown",
      "metadata": {
        "id": "0WMf5L5VEqZb"
      },
      "source": [
        "Refine your implementation of PageRank to test for numerical convergence. Specificially, at each iteration, calculate the [perplexity](https://en.wikipedia.org/wiki/Perplexity) of the PageRank distribution, where perplexity is defined as 2 raised to the [Shannon entropy](https://en.wikipedia.org/wiki/Entropy_(information_theory)) of the PageRank distribution, i.e., $2^{H(PR)}$. (Recall the definition of entropy from our discussion of data compression.) The maximum perplexity of a PageRank distribution will therefore be the number of nodes in the graph.\n",
        "\n",
        "At each iteration, check the _change_ in perplexity. If the change is less than some threshold, you can stop.\n"
      ]
    },
    {
      "cell_type": "code",
      "source": [
        "from scipy import sparse"
      ],
      "metadata": {
        "id": "7a1bVCPbGf11"
      },
      "execution_count": 8,
      "outputs": []
    },
    {
      "cell_type": "code",
      "metadata": {
        "id": "wsL0yQKvKqAC",
        "colab": {
          "base_uri": "https://localhost:8080/"
        },
        "outputId": "9e9d6523-aeee-4424-e605-e047e6822f4c"
      },
      "source": [
        "# TODO: Implement convergence testing in PageRank\n",
        "# If you choose, you can share some subroutines with your first version.\n",
        "# Print the change in perplexity at each iteration.\n",
        "\n",
        "def page_rank(nodes, edges, threshold=1):\n",
        "  N = len(nodes)\n",
        "  d = 0.9\n",
        "  cols, rows = zip(*edges)\n",
        "  adj = sparse.csr_array((np.ones(len(edges)), (rows, cols)), shape=(N, N))\n",
        "  r = sparse.csr_matrix(np.ones((N, 1)))\n",
        "  r /= r.sum()\n",
        "  perp_change = np.inf\n",
        "  perplexity = 2**-(r.toarray()*np.log(r.toarray())).sum()\n",
        "  adj /= adj.sum(axis=0)\n",
        "  rand_jump = sparse.csr_array(np.ones((N, 1)) * (1 - d) / N)\n",
        "  while perp_change >= threshold:\n",
        "    print(perp_change)\n",
        "    r = d * adj @ r\n",
        "    r += rand_jump\n",
        "    r /= r.sum()\n",
        "    perplexity_new = 2**-(r.toarray()*np.log(r.toarray())).sum()\n",
        "    perp_change = np.abs(perplexity - perplexity_new)\n",
        "    perplexity = perplexity_new\n",
        "  return [(nodes[i][0], nodes[i][1], r[i, 0]) for i in range(N)]\n",
        "\n",
        "# Run until perplexity changes by less than 1\n",
        "PR = page_rank(vertices, edges, 1)"
      ],
      "execution_count": 15,
      "outputs": [
        {
          "output_type": "stream",
          "name": "stderr",
          "text": [
            "/usr/local/lib/python3.10/dist-packages/scipy/sparse/_base.py:659: RuntimeWarning: divide by zero encountered in divide\n",
            "  recip = np.true_divide(1., other)\n"
          ]
        },
        {
          "output_type": "stream",
          "name": "stdout",
          "text": [
            "inf\n",
            "5757.513642950361\n",
            "239.98536303373749\n",
            "214.77752859686825\n",
            "3.1316528847069094\n",
            "79.28615703364449\n",
            "18.20889971670067\n",
            "45.5071024209542\n",
            "17.290024488838753\n",
            "30.82950259862946\n",
            "14.41621746227338\n",
            "25.192047320637357\n",
            "13.228470605353323\n",
            "22.82108956264301\n",
            "13.749020885477876\n",
            "22.39783312857071\n",
            "15.292342986790572\n",
            "23.381425183930787\n",
            "17.62250142586754\n",
            "25.343556692148468\n",
            "20.63164988741164\n",
            "28.08224021084561\n",
            "24.200206227275885\n",
            "31.465377703405466\n",
            "28.23854984038917\n",
            "35.35207773883485\n",
            "32.636200207595266\n",
            "39.594701482656546\n",
            "37.24874204402249\n",
            "44.01233817706543\n",
            "41.891970170449895\n",
            "48.38525694756663\n",
            "46.341799063395\n",
            "52.463038222210116\n",
            "50.34713298247834\n",
            "55.97779802045966\n",
            "53.650279802850264\n",
            "58.67124769009956\n",
            "56.015940645504315\n",
            "60.32618714488967\n",
            "57.26353213552193\n",
            "60.79686643361515\n",
            "57.295281983283985\n",
            "60.03276658462141\n",
            "56.112951666442314\n",
            "58.0874856060891\n",
            "53.81858020099935\n",
            "55.11026253845148\n",
            "50.59825453872918\n",
            "51.32209087922445\n",
            "46.69289199949344\n",
            "46.98208793630272\n",
            "42.363535404659274\n",
            "42.35241284006395\n",
            "37.85895803154699\n",
            "37.66907784265072\n",
            "33.39158246879367\n",
            "33.12300359502774\n",
            "29.12438128588417\n",
            "28.85222991545129\n",
            "25.168078742442162\n",
            "24.943393107128145\n",
            "21.585948978920214\n",
            "21.439196614429648\n",
            "18.402852480401407\n",
            "18.348577628017438\n",
            "15.615561443976787\n",
            "15.65703762100378\n",
            "13.202376451349153\n",
            "13.33561284833246\n",
            "11.131004227321341\n",
            "11.347851435069856\n",
            "9.36440380756369\n",
            "9.654766633670476\n",
            "7.86475942521389\n",
            "8.218054400773042\n",
            "6.595940254592563\n",
            "7.001976877138304\n",
            "5.524846687382421\n",
            "5.974302726541509\n",
            "4.621998503712916\n",
            "5.106627990474351\n",
            "3.8616437155584435\n",
            "4.374320396926464\n",
            "3.221588838847765\n",
            "3.7562562975875267\n",
            "2.682885936777211\n",
            "3.2344607527066387\n",
            "2.2294622091083056\n",
            "2.793718745168576\n",
            "1.8477430251911073\n",
            "2.4211964227061458\n",
            "1.5262962226150876\n",
            "2.106092427240526\n",
            "1.2555109344726247\n",
            "1.8393278160467048\n",
            "1.0273154888305385\n",
            "1.613276353200206\n"
          ]
        }
      ]
    },
    {
      "cell_type": "markdown",
      "metadata": {
        "id": "rcncY2QHNl0M"
      },
      "source": [
        "## Link Analysis\n",
        "\n",
        "\\[20 points\\] In this final section, you will compute some properties of this web-site graph.\n",
        "\n",
        "First, consider the _in-link count_ of a website, simply the number of websites pointing to it (including self-links)."
      ]
    },
    {
      "cell_type": "code",
      "metadata": {
        "id": "a_FyPlLSO2bu",
        "colab": {
          "base_uri": "https://localhost:8080/"
        },
        "outputId": "ce8536e4-558a-4ba6-80c4-f05c3cfc4343"
      },
      "source": [
        "# TODO: List the document ID, domain name, and in-link count of the 70 websites with the highest in-link count\n",
        "N = len(vertices)\n",
        "d = 0.9\n",
        "cols, rows = zip(*edges)\n",
        "adj = sparse.csr_array((np.ones(len(edges)), (rows, cols)), shape=(N, N))\n",
        "in_link_counts = np.array(adj.sum(axis=1)).flatten()\n",
        "website_info = [(vertices[i][0], vertices[i][1], in_link_counts[i]) for i in range(N)]\n",
        "sorted_websites = sorted(website_info, key=lambda x: x[2], reverse=True)\n",
        "sorted_websites[:70]"
      ],
      "execution_count": 28,
      "outputs": [
        {
          "output_type": "execute_result",
          "data": {
            "text/plain": [
              "[(185524, 'edu.mit.web', 4388.0),\n",
              " (278032, 'edu.stanford', 4021.0),\n",
              " (244433, 'edu.purdue.english.owl', 3531.0),\n",
              " (140443, 'edu.indiana', 3339.0),\n",
              " (237176, 'edu.princeton', 3251.0),\n",
              " (64587, 'edu.columbia', 3123.0),\n",
              " (465503, 'edu.yale', 2804.0),\n",
              " (418623, 'edu.utexas', 2622.0),\n",
              " (383763, 'edu.unc', 2592.0),\n",
              " (197698, 'edu.nap', 2494.0),\n",
              " (439637, 'edu.washington', 2291.0),\n",
              " (373442, 'edu.umich', 2281.0),\n",
              " (440674, 'edu.washington.depts', 2276.0),\n",
              " (148945, 'edu.jhu.muse', 2255.0),\n",
              " (60975, 'edu.colorado', 2232.0),\n",
              " (449738, 'edu.wisc', 2230.0),\n",
              " (38320, 'edu.bu', 2205.0),\n",
              " (83572, 'edu.dartmouth', 1965.0),\n",
              " (408380, 'edu.usc', 1952.0),\n",
              " (178879, 'edu.mit', 1946.0),\n",
              " (27307, 'edu.berkeley', 1908.0),\n",
              " (233405, 'edu.pitt', 1857.0),\n",
              " (191069, 'edu.msu', 1810.0),\n",
              " (326371, 'edu.uchicago.press', 1763.0),\n",
              " (136464, 'edu.illinois', 1753.0),\n",
              " (93874, 'edu.educause', 1741.0),\n",
              " (56979, 'edu.cmu.cs', 1730.0),\n",
              " (199032, 'edu.ncsu', 1709.0),\n",
              " (36294, 'edu.brown', 1702.0),\n",
              " (202182, 'edu.nd', 1689.0),\n",
              " (68675, 'edu.cornell', 1685.0),\n",
              " (71095, 'edu.cornell.law', 1646.0),\n",
              " (183214, 'edu.mit.mitpress', 1644.0),\n",
              " (215627, 'edu.nyu', 1625.0),\n",
              " (56538, 'edu.cmu', 1583.0),\n",
              " (239378, 'edu.psu', 1541.0),\n",
              " (350412, 'edu.ufl', 1533.0),\n",
              " (120819, 'edu.harvard', 1529.0),\n",
              " (270369, 'edu.si', 1513.0),\n",
              " (107916, 'edu.gatech', 1500.0),\n",
              " (365396, 'edu.uky', 1497.0),\n",
              " (337138, 'edu.ucop', 1482.0),\n",
              " (358246, 'edu.uic', 1472.0),\n",
              " (382564, 'edu.umn.www1', 1470.0),\n",
              " (403069, 'edu.upenn', 1464.0),\n",
              " (293521, 'edu.tamu', 1452.0),\n",
              " (284517, 'edu.stanford.web', 1451.0),\n",
              " (256613, 'edu.rutgers', 1440.0),\n",
              " (367316, 'edu.umass', 1430.0),\n",
              " (457936, 'edu.wsu', 1419.0),\n",
              " (36154, 'edu.brookings', 1388.0),\n",
              " (323918, 'edu.uchicago', 1377.0),\n",
              " (440902, 'edu.washington.faculty', 1363.0),\n",
              " (282555, 'edu.stanford.plato', 1353.0),\n",
              " (392894, 'edu.universityofcalifornia', 1353.0),\n",
              " (329686, 'edu.ucla', 1347.0),\n",
              " (317828, 'edu.ucdavis', 1343.0),\n",
              " (354337, 'edu.uga', 1339.0),\n",
              " (225417, 'edu.osu', 1322.0),\n",
              " (393138, 'edu.unl', 1319.0),\n",
              " (14945, 'edu.arizona', 1308.0),\n",
              " (429488, 'edu.vanderbilt', 1308.0),\n",
              " (377474, 'edu.umich.www-personal', 1302.0),\n",
              " (342997, 'edu.ucsd', 1295.0),\n",
              " (360674, 'edu.uiowa', 1285.0),\n",
              " (378163, 'edu.umn', 1285.0),\n",
              " (118806, 'edu.gwu', 1280.0),\n",
              " (621, 'edu.academia', 1272.0),\n",
              " (334739, 'edu.uconn', 1268.0),\n",
              " (89455, 'edu.duke', 1263.0)]"
            ]
          },
          "metadata": {},
          "execution_count": 28
        }
      ]
    },
    {
      "cell_type": "markdown",
      "metadata": {
        "id": "5uSlQEtmPTTA"
      },
      "source": [
        "Then, use the PageRank values compute by your second implementation. Note that some websites will have both a high in-link count and PageRank."
      ]
    },
    {
      "cell_type": "code",
      "metadata": {
        "id": "nwcci2kdPlMR",
        "colab": {
          "base_uri": "https://localhost:8080/"
        },
        "outputId": "1c0cea3b-e510-43ce-fa82-de22120ca198"
      },
      "source": [
        "# TODO: List the document ID, domain name, and PageRank of the 70 websites with the highest PageRank.\n",
        "sorted(PR, key=lambda x: x[2], reverse=True)[:70]"
      ],
      "execution_count": 20,
      "outputs": [
        {
          "output_type": "execute_result",
          "data": {
            "text/plain": [
              "[(319795, 'edu.ucdavis.ice.code', 0.10609002908518399),\n",
              " (318278, 'edu.ucdavis.cas', 0.08322150079378479),\n",
              " (210535, 'edu.northcentralcollege.brilliantfuture', 0.00929159438910175),\n",
              " (53834, 'edu.chop.securelogin', 0.008373300564430046),\n",
              " (53697, 'edu.chop.cidmfed', 0.007943070804735605),\n",
              " (210532, 'edu.northcentralcollege', 0.007421050003020955),\n",
              " (432977, 'edu.villanova.login', 0.007270018910749308),\n",
              " (432980, 'edu.villanova.lpres', 0.006942949137970304),\n",
              " (34517, 'edu.boisestate.cs-prod', 0.0068378992963070515),\n",
              " (34799, 'edu.boisestate.weblogin', 0.006686189945066094),\n",
              " (212726, 'edu.northwestern.rogersgroup', 0.004758176567074042),\n",
              " (138638, 'edu.illinois.matse.rogers', 0.00460628024572871),\n",
              " (457163, 'edu.wosc.jobs', 0.004290202196795437),\n",
              " (105087, 'edu.fsu.cpeip', 0.002933444637692426),\n",
              " (68629, 'edu.cord.moodle', 0.00287549787679982),\n",
              " (202000, 'edu.ncu', 0.002868672362180379),\n",
              " (68596, 'edu.cord.bprdeis', 0.0027660274722079428),\n",
              " (105088, 'edu.fsu.cpeipstore', 0.0027497417407355267),\n",
              " (187513, 'edu.monroe.ensemble', 0.002699430740563122),\n",
              " (232818, 'edu.philander', 0.0026473375477716918),\n",
              " (457156, 'edu.wosc', 0.00260158429539827),\n",
              " (109478, 'edu.gatech.gtorg.erato', 0.002583368685594813),\n",
              " (63671, 'edu.colostate.jur', 0.0025697495503366457),\n",
              " (232819, 'edu.philander.jics', 0.002542230515539589),\n",
              " (63672, 'edu.colostate.jurtest', 0.002501566068653085),\n",
              " (316082, 'edu.ubalt.myub', 0.0024107061530297316),\n",
              " (109197, 'edu.gatech.erato', 0.0023836190119975015),\n",
              " (187496, 'edu.monroe', 0.002339125969531419),\n",
              " (409724, 'edu.usc.myviterbi', 0.002273699817406612),\n",
              " (117186, 'edu.gsu.academicdashboards', 0.002217528636603442),\n",
              " (109176, 'edu.gatech.energyclub', 0.0022028738261389586),\n",
              " (410354, 'edu.usc.vsoe.vsoeapp1', 0.00217590558294379),\n",
              " (109178, 'edu.gatech.energyexpo', 0.0021697239183012815),\n",
              " (202010, 'edu.ncu.higherdegrees', 0.0021506005238403686),\n",
              " (18599, 'edu.artcenter.acid', 0.0020964953404697924),\n",
              " (110607, 'edu.gatech.philanthropy', 0.0020936996864924467),\n",
              " (383186, 'edu.umt.jour.mjr.features', 0.0020656733903994646),\n",
              " (109619, 'edu.gatech.gtsf', 0.0020296094170094733),\n",
              " (383185, 'edu.umt.jour.mjr', 0.0019173928776987314),\n",
              " (48324, 'edu.calvary', 0.0017911538966708333),\n",
              " (348868, 'edu.ucwv.eagleshop', 0.0017559450756838351),\n",
              " (117430, 'edu.gsu.dssapex', 0.0017472243237352735),\n",
              " (101634, 'edu.fit.hiai', 0.0016919375155342487),\n",
              " (149488, 'edu.jhuapl.superdarn', 0.0016554613517540979),\n",
              " (348869, 'edu.ucwv.eagleshopcharleston', 0.0016183611612315772),\n",
              " (304603, 'edu.toniguy.pittsburgh', 0.0016102114821427422),\n",
              " (149388, 'edu.jhuapl.ampere', 0.0016097472722559267),\n",
              " (452756, 'edu.wisc.meteor.mocha', 0.0015940736983032719),\n",
              " (94736, 'edu.eku.safetydegree', 0.001583274721858304),\n",
              " (449873, 'edu.wisc.aos.cup', 0.0015614132211518375),\n",
              " (137115, 'edu.illinois.crhc.rakeshk', 0.001548262884501795),\n",
              " (316073, 'edu.ubalt.logon', 0.001546932864004205),\n",
              " (94737, 'edu.eku.safetymanagement', 0.0015462522360309193),\n",
              " (49789, 'edu.case.dcru', 0.0015383003600951462),\n",
              " (446672, 'edu.westernu.you', 0.0014514935649280955),\n",
              " (202002, 'edu.ncu.alumni', 0.0014339437355676515),\n",
              " (300242, 'edu.tcnj.pages.competitive', 0.0014182512172854359),\n",
              " (342690, 'edu.ucsc.soe.greenwharf-wp', 0.0013735606633328806),\n",
              " (9382, 'edu.ahgaff.mail', 0.0013726543338165088),\n",
              " (300000, 'edu.tcnj.competitive', 0.0013592252502607656),\n",
              " (446624, 'edu.westernu.login', 0.0013536847106654414),\n",
              " (54953, 'edu.clarkson.moodle', 0.0013484706199672558),\n",
              " (465330, 'edu.xaviers', 0.0013321654385865557),\n",
              " (48814, 'edu.capecod.my4cs', 0.0013220896539302138),\n",
              " (137114, 'edu.illinois.crhc.passat', 0.0013186499279004885),\n",
              " (119617, 'edu.hacc.auth', 0.0013123396442945975),\n",
              " (267532, 'edu.sdsu.threeissues', 0.0012943368247403681),\n",
              " (465331, 'edu.xaviers.xicp', 0.0012842854985296599),\n",
              " (54870, 'edu.clarkson.cas0', 0.0012813747275224317),\n",
              " (101631, 'edu.fit.harris-institute', 0.001281279406230275)]"
            ]
          },
          "metadata": {},
          "execution_count": 20
        }
      ]
    },
    {
      "cell_type": "markdown",
      "metadata": {
        "id": "SxODBxL_Pyy2"
      },
      "source": [
        "Finally, compute some summary statistics on this dataset."
      ]
    },
    {
      "cell_type": "code",
      "metadata": {
        "id": "oD4bq6AyQIsU",
        "colab": {
          "base_uri": "https://localhost:8080/"
        },
        "outputId": "c78411c6-06bc-4610-f0ff-b6f33ef0bb17"
      },
      "source": [
        "# TODO: Compute:\n",
        "# - the proportion of websites with no in-links (i.e., source nodes);\n",
        "print(np.count_nonzero(np.array(adj.sum(axis=1) == 0)) / N)\n",
        "# - the proportion of websites with no out-links (i.e., sink nodes);\n",
        "print(np.count_nonzero(np.array(adj.sum(axis=0) == 0)) / N)\n",
        "# - the proportion of websites whose PageRank is higher than the initial uniform distribution.\n",
        "uniform_distribution = np.ones(N) / N\n",
        "PR_values = [PR[i][2] for i in range(N)]\n",
        "print(np.sum(PR_values > uniform_distribution) / N)"
      ],
      "execution_count": 52,
      "outputs": [
        {
          "output_type": "stream",
          "name": "stdout",
          "text": [
            "0.26153633041013563\n",
            "0.6106641661427643\n",
            "0.06337123189872879\n"
          ]
        }
      ]
    }
  ]
}