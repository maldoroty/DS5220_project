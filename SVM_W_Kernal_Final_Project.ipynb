{
  "nbformat": 4,
  "nbformat_minor": 0,
  "metadata": {
    "colab": {
      "provenance": [],
      "include_colab_link": true
    },
    "kernelspec": {
      "name": "python3",
      "display_name": "Python 3"
    },
    "language_info": {
      "name": "python"
    },
    "accelerator": "GPU",
    "gpuClass": "standard"
  },
  "cells": [
    {
      "cell_type": "markdown",
      "metadata": {
        "id": "view-in-github",
        "colab_type": "text"
      },
      "source": [
        "<a href=\"https://colab.research.google.com/github/maldoroty/DS5220_project/blob/main/SVM_W_Kernal_Final_Project.ipynb\" target=\"_parent\"><img src=\"https://colab.research.google.com/assets/colab-badge.svg\" alt=\"Open In Colab\"/></a>"
      ]
    },
    {
      "cell_type": "markdown",
      "source": [
        "# SVM for image classification on CIFAR10\n",
        "First lets import our packages."
      ],
      "metadata": {
        "id": "2N_qAf2K6MHo"
      }
    },
    {
      "cell_type": "code",
      "execution_count": null,
      "metadata": {
        "id": "JV7jv0pzYOVI"
      },
      "outputs": [],
      "source": [
        "from sklearn import svm\n",
        "from sklearn.model_selection import GridSearchCV\n",
        "import keras\n",
        "from keras.datasets import cifar10\n",
        "import numpy as np"
      ]
    },
    {
      "cell_type": "markdown",
      "source": [
        "## Loading in data and reshaping\n",
        "For SVM, we must reshape the data. Since this is an image classifcation problem, each sample is a array of 3 matrices, which correspond to RGB values. So, we reshape the data but flattening each color matrix in each sample into a vector and then concancatening the 3 vectors for each sample."
      ],
      "metadata": {
        "id": "IpwSR5Uu6RG-"
      }
    },
    {
      "cell_type": "code",
      "source": [
        "(X_train, y_train), (X_test, y_test) = cifar10.load_data()\n",
        "\n",
        "X_train = X_train.reshape(len(X_train), 3*32*32)\n",
        "y_train = y_train.flatten()\n",
        "\n",
        "X_test = X_test.reshape(len(X_test), 3*32*32)\n",
        "y_test = y_test.flatten()\n",
        "\n",
        "classes = ['airplane', 'automobile', 'bird', 'cat', 'deer', 'dog', 'frog', 'horse', 'ship', 'truck']\n",
        "\n",
        "print(\"# train samples = \", len(X_train))\n",
        "print(\"# test samples = \", len(X_test))"
      ],
      "metadata": {
        "colab": {
          "base_uri": "https://localhost:8080/"
        },
        "id": "HIQsLptNe3p-",
        "outputId": "fb84402b-a165-4545-ffb6-78a83f46f5f8"
      },
      "execution_count": null,
      "outputs": [
        {
          "output_type": "stream",
          "name": "stdout",
          "text": [
            "# train samples =  50000\n",
            "# test samples =  10000\n"
          ]
        }
      ]
    },
    {
      "cell_type": "markdown",
      "source": [
        "## Hyperparam Tuning\n",
        "Here, we use GridSearchCV to see which combination of parameters works the best on a small sample of the training data. GridSearchCV works by taking in a collection of possible parameter values and then trying every possible combination of them."
      ],
      "metadata": {
        "id": "vvJ7Aas26WRS"
      }
    },
    {
      "cell_type": "code",
      "source": [
        "# defining parameter range \n",
        "params = {'C': [0.1, 1, 10, 100],  \n",
        "              'gamma': [1, 0.1, 0.01, 0.001, 0.0001], \n",
        "              'gamma':['scale', 'auto'],\n",
        "              'kernel': ['linear', 'poly', 'rbf', 'sigmoid']}  \n",
        "   \n",
        "clf = GridSearchCV(svm.SVC(), params, refit = True, verbose = 3, n_jobs=-1) \n",
        "   \n",
        "# fitting the model for grid search \n",
        "clf.fit(X_train[:1000], y_train[:1000])\n",
        "best_params = clf.best_params_\n",
        "print(best_params)"
      ],
      "metadata": {
        "colab": {
          "base_uri": "https://localhost:8080/"
        },
        "id": "yWLbMmjsaD3D",
        "outputId": "3b4da10e-73e8-4cf0-a3d5-1671d8c3e7e4"
      },
      "execution_count": null,
      "outputs": [
        {
          "output_type": "stream",
          "name": "stdout",
          "text": [
            "Fitting 5 folds for each of 32 candidates, totalling 160 fits\n",
            "{'C': 1, 'gamma': 'scale', 'kernel': 'rbf'}\n"
          ]
        }
      ]
    },
    {
      "cell_type": "markdown",
      "source": [
        "## Training\n",
        "Using the best parameters selected with GridSearchCV, we use them to train a SVC model. Only training it on 5000 samples currently since using more causes Colab to crash."
      ],
      "metadata": {
        "id": "m2HyTLsj66Jz"
      }
    },
    {
      "cell_type": "code",
      "source": [
        "from sklearn.metrics import classification_report, accuracy_score\n",
        "\n",
        "c_vals = [0.01, 0.1, 1, 10, 100]\n",
        "accs = []\n",
        "num_samples = 5000\n",
        "\n",
        "for c in c_vals:\n",
        "  print(f\"Testing C = {c}\")\n",
        "  clf = svm.SVC(C=c)\n",
        "  clf.fit(X_train[:num_samples], y_train[:num_samples])\n",
        "\n",
        "  y_pred = clf.predict(X_test)\n",
        "  acc = accuracy_score(y_test, y_pred)\n",
        "  accs.append(acc)\n",
        "  print(f\"Acc: {acc}\")"
      ],
      "metadata": {
        "colab": {
          "base_uri": "https://localhost:8080/"
        },
        "id": "hnmqTxSvlQlt",
        "outputId": "b19a6bf4-4033-4ce1-ae2f-2ff269aa54d5"
      },
      "execution_count": null,
      "outputs": [
        {
          "output_type": "stream",
          "name": "stdout",
          "text": [
            "Testing C = 0.01\n",
            "Acc: 0.1834\n",
            "Testing C = 0.1\n",
            "Acc: 0.3515\n",
            "Testing C = 1\n",
            "Acc: 0.4435\n",
            "Testing C = 10\n",
            "Acc: 0.4494\n",
            "Testing C = 100\n",
            "Acc: 0.4457\n"
          ]
        }
      ]
    },
    {
      "cell_type": "code",
      "source": [
        "import matplotlib.pyplot as plt\n",
        "\n",
        "plt.plot(c_vals, accs)\n",
        "plt.title(\"SVM: L-2 Regularization Parameter vs. Accuracy\")\n",
        "plt.xlabel(\"L-2 Reg. Param.\")\n",
        "plt.ylabel(\"Accuracy\")\n",
        "plt.show()"
      ],
      "metadata": {
        "colab": {
          "base_uri": "https://localhost:8080/",
          "height": 472
        },
        "id": "SZ4FzTPcp-o4",
        "outputId": "15bd508c-c9e7-4f96-a838-785de0b7f34a"
      },
      "execution_count": null,
      "outputs": [
        {
          "output_type": "display_data",
          "data": {
            "text/plain": [
              "<Figure size 640x480 with 1 Axes>"
            ],
            "image/png": "[encoded data removed]"
          },
          "metadata": {}
        }
      ]
    },
    {
      "cell_type": "markdown",
      "source": [
        "## Model Evaluation\n",
        "Now that we have a trained model, we can test how well it does by testing it using the test data."
      ],
      "metadata": {
        "id": "v2UL75pq7F5L"
      }
    },
    {
      "cell_type": "code",
      "source": [
        "from sklearn.metrics import classification_report, \n",
        "\n",
        "y_pred = clf.predict(X_test)\n",
        "\n",
        "print(classification_report(y_test, y_pred))"
      ],
      "metadata": {
        "colab": {
          "base_uri": "https://localhost:8080/"
        },
        "id": "C4eeHpW5hdDL",
        "outputId": "b2d9588d-9f8e-4dc9-c088-01646ffb206d"
      },
      "execution_count": null,
      "outputs": [
        {
          "output_type": "stream",
          "name": "stdout",
          "text": [
            "              precision    recall  f1-score   support\n",
            "\n",
            "           0       0.54      0.56      0.55      1000\n",
            "           1       0.54      0.58      0.56      1000\n",
            "           2       0.34      0.40      0.37      1000\n",
            "           3       0.31      0.33      0.32      1000\n",
            "           4       0.42      0.39      0.40      1000\n",
            "           5       0.42      0.35      0.38      1000\n",
            "           6       0.52      0.52      0.52      1000\n",
            "           7       0.57      0.50      0.53      1000\n",
            "           8       0.58      0.64      0.61      1000\n",
            "           9       0.54      0.52      0.53      1000\n",
            "\n",
            "    accuracy                           0.48     10000\n",
            "   macro avg       0.48      0.48      0.48     10000\n",
            "weighted avg       0.48      0.48      0.48     10000\n",
            "\n"
          ]
        }
      ]
    },
    {
      "cell_type": "code",
      "source": [],
      "metadata": {
        "id": "eolp8CKaAY7Z"
      },
      "execution_count": null,
      "outputs": []
    }
  ]
}